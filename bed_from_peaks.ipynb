{
 "cells": [
  {
   "cell_type": "code",
   "execution_count": 31,
   "metadata": {},
   "outputs": [
    {
     "ename": "ERROR",
     "evalue": "Error in library(here): there is no package called ‘here’\n",
     "output_type": "error",
     "traceback": [
      "Error in library(here): there is no package called ‘here’\nTraceback:\n",
      "1. library(here)"
     ]
    }
   ],
   "source": [
    "library(tidyr)\n",
    "library(dplyr)\n",
    "library(utils)\n"
   ]
  },
  {
   "cell_type": "code",
   "execution_count": 32,
   "metadata": {},
   "outputs": [
    {
     "ename": "ERROR",
     "evalue": "Error in here(): could not find function \"here\"\n",
     "output_type": "error",
     "traceback": [
      "Error in here(): could not find function \"here\"\nTraceback:\n"
     ]
    }
   ],
   "source": []
  },
  {
   "cell_type": "code",
   "execution_count": 45,
   "metadata": {},
   "outputs": [],
   "source": [
    "#Generating File Paths\n",
    "gen.atac.path <- function(pid, data.path, summary){\n",
    "    \n",
    "    summ = read.csv(paste(data.path, summary, sep=\"\"))\n",
    "    \n",
    "    p.summ = summ[summ$Patient == pid,]\n",
    "    \n",
    "    atac.date <- p.summ$date_ATAC\n",
    "    atac.id <- p.summ$sampleid_ATAC\n",
    "    atac.tissue <- p.summ$Tissue\n",
    "    \n",
    "    atac.path <- paste(data.path,\n",
    "                       \"scATAC-seq_\",\n",
    "                       atac.tissue, \".\",\n",
    "                       atac.date,\n",
    "                       \"/\",\n",
    "                       atac.id,\n",
    "                       \"/outs/\",\n",
    "                       sep=\"\")\n",
    "    return(atac.path)\n",
    "    \n",
    "}\n",
    "\n",
    "gen.rna.path <- function(pid, data.path, summary){\n",
    "    \n",
    "    summ = read.csv(paste(data.path, summary, sep=\"\"))\n",
    "    \n",
    "    p.summ = summ[summ$Patient == pid,]\n",
    "    \n",
    "    atac.date <- p.summ$date_RNA\n",
    "    atac.id <- p.summ$sampleid_RNA\n",
    "    atac.tissue <- p.summ$Tissue\n",
    "    \n",
    "    atac.path <- paste(data.path,\n",
    "                       \"scRNA-seq_\",\n",
    "                       atac.tissue, \".\",\n",
    "                       atac.date,\n",
    "                       \"/\",\n",
    "                       atac.id,\n",
    "                       \"/outs/\",\n",
    "                       sep=\"\")\n",
    "    return(atac.path)\n",
    "    \n",
    "}\n",
    "\n",
    "\n",
    "base.path <- \"/home/cyogodzi/projects/franco/\"\n",
    "\n",
    "\n",
    "\n",
    "summ <- \"Single-cell_sequencing.summary.09.14.20.csv\"\n",
    "patient.id <- \"43E7BL\"\n",
    "\n",
    "data.path <- paste(base.path, \"francoData/\", sep=\"\")\n",
    "atac.path <- gen.atac.path(patient.id, data.path, summ)\n",
    "atac.peaks <- paste(atac.path, \"peak_annotation.tsv\", sep=\"\")\n",
    "\n",
    "rna.path <- gen.rna.path(patient.id, data.path, summ)"
   ]
  },
  {
   "cell_type": "code",
   "execution_count": 49,
   "metadata": {},
   "outputs": [
    {
     "data": {
      "text/html": [
       "'/home/cyogodzi/projects/franco/francoData/scRNA-seq_Breast.08.10.2020/43E7BL-RNA/outs//possorted_genome_bam.bam'"
      ],
      "text/latex": [
       "'/home/cyogodzi/projects/franco/francoData/scRNA-seq\\_Breast.08.10.2020/43E7BL-RNA/outs//possorted\\_genome\\_bam.bam'"
      ],
      "text/markdown": [
       "'/home/cyogodzi/projects/franco/francoData/scRNA-seq_Breast.08.10.2020/43E7BL-RNA/outs//possorted_genome_bam.bam'"
      ],
      "text/plain": [
       "[1] \"/home/cyogodzi/projects/franco/francoData/scRNA-seq_Breast.08.10.2020/43E7BL-RNA/outs//possorted_genome_bam.bam\""
      ]
     },
     "metadata": {},
     "output_type": "display_data"
    }
   ],
   "source": [
    "paste(rna.path, \"possorted_genome_bam.bam\", sep=\"/\")"
   ]
  },
  {
   "cell_type": "code",
   "execution_count": 42,
   "metadata": {},
   "outputs": [
    {
     "data": {
      "text/html": [
       "'/home/cyogodzi/projects/franco/francoData/scATAC-seq_Breast.08.07.2020/43E7BL-ATAC/outs/peak_annotation.tsv'"
      ],
      "text/latex": [
       "'/home/cyogodzi/projects/franco/francoData/scATAC-seq\\_Breast.08.07.2020/43E7BL-ATAC/outs/peak\\_annotation.tsv'"
      ],
      "text/markdown": [
       "'/home/cyogodzi/projects/franco/francoData/scATAC-seq_Breast.08.07.2020/43E7BL-ATAC/outs/peak_annotation.tsv'"
      ],
      "text/plain": [
       "[1] \"/home/cyogodzi/projects/franco/francoData/scATAC-seq_Breast.08.07.2020/43E7BL-ATAC/outs/peak_annotation.tsv\""
      ]
     },
     "metadata": {},
     "output_type": "display_data"
    }
   ],
   "source": [
    "atac.peaks"
   ]
  },
  {
   "cell_type": "code",
   "execution_count": 3,
   "metadata": {},
   "outputs": [
    {
     "data": {
      "text/html": [
       "<table class=\"dataframe\">\n",
       "<caption>A data.frame: 6 × 4</caption>\n",
       "<thead>\n",
       "\t<tr><th></th><th scope=col>peak</th><th scope=col>gene</th><th scope=col>distance</th><th scope=col>peak_type</th></tr>\n",
       "\t<tr><th></th><th scope=col>&lt;chr&gt;</th><th scope=col>&lt;chr&gt;</th><th scope=col>&lt;chr&gt;</th><th scope=col>&lt;chr&gt;</th></tr>\n",
       "</thead>\n",
       "<tbody>\n",
       "\t<tr><th scope=row>1</th><td>chr1_191364_191721</td><td>OR4F5 </td><td>122310 </td><td>distal</td></tr>\n",
       "\t<tr><th scope=row>2</th><td>chr1_267837_268176</td><td>OR4F29</td><td>183521 </td><td>distal</td></tr>\n",
       "\t<tr><th scope=row>3</th><td>chr1_629771_630127</td><td>OR4F16</td><td>56546  </td><td>distal</td></tr>\n",
       "\t<tr><th scope=row>4</th><td>chr1_633798_634264</td><td>OR4F16</td><td>52409  </td><td>distal</td></tr>\n",
       "\t<tr><th scope=row>5</th><td>chr1_778190_780050</td><td>OR4F16</td><td>-91518 </td><td>distal</td></tr>\n",
       "\t<tr><th scope=row>6</th><td>chr1_816876_818224</td><td>SAMD11</td><td>-107514</td><td>distal</td></tr>\n",
       "</tbody>\n",
       "</table>\n"
      ],
      "text/latex": [
       "A data.frame: 6 × 4\n",
       "\\begin{tabular}{r|llll}\n",
       "  & peak & gene & distance & peak\\_type\\\\\n",
       "  & <chr> & <chr> & <chr> & <chr>\\\\\n",
       "\\hline\n",
       "\t1 & chr1\\_191364\\_191721 & OR4F5  & 122310  & distal\\\\\n",
       "\t2 & chr1\\_267837\\_268176 & OR4F29 & 183521  & distal\\\\\n",
       "\t3 & chr1\\_629771\\_630127 & OR4F16 & 56546   & distal\\\\\n",
       "\t4 & chr1\\_633798\\_634264 & OR4F16 & 52409   & distal\\\\\n",
       "\t5 & chr1\\_778190\\_780050 & OR4F16 & -91518  & distal\\\\\n",
       "\t6 & chr1\\_816876\\_818224 & SAMD11 & -107514 & distal\\\\\n",
       "\\end{tabular}\n"
      ],
      "text/markdown": [
       "\n",
       "A data.frame: 6 × 4\n",
       "\n",
       "| <!--/--> | peak &lt;chr&gt; | gene &lt;chr&gt; | distance &lt;chr&gt; | peak_type &lt;chr&gt; |\n",
       "|---|---|---|---|---|\n",
       "| 1 | chr1_191364_191721 | OR4F5  | 122310  | distal |\n",
       "| 2 | chr1_267837_268176 | OR4F29 | 183521  | distal |\n",
       "| 3 | chr1_629771_630127 | OR4F16 | 56546   | distal |\n",
       "| 4 | chr1_633798_634264 | OR4F16 | 52409   | distal |\n",
       "| 5 | chr1_778190_780050 | OR4F16 | -91518  | distal |\n",
       "| 6 | chr1_816876_818224 | SAMD11 | -107514 | distal |\n",
       "\n"
      ],
      "text/plain": [
       "  peak               gene   distance peak_type\n",
       "1 chr1_191364_191721 OR4F5  122310   distal   \n",
       "2 chr1_267837_268176 OR4F29 183521   distal   \n",
       "3 chr1_629771_630127 OR4F16 56546    distal   \n",
       "4 chr1_633798_634264 OR4F16 52409    distal   \n",
       "5 chr1_778190_780050 OR4F16 -91518   distal   \n",
       "6 chr1_816876_818224 SAMD11 -107514  distal   "
      ]
     },
     "metadata": {},
     "output_type": "display_data"
    }
   ],
   "source": [
    "#read peak annotation file\n",
    "peak.annot <- read.delim(atac.peaks)\n",
    "head(peak.annot)"
   ]
  },
  {
   "cell_type": "code",
   "execution_count": 25,
   "metadata": {},
   "outputs": [],
   "source": [
    "noncoding <- peak.annot %>% \n",
    "             group_by(peak_type) %>%\n",
    "             filter(peak_type == \"distal\" || peak_type == \"intergenic\")"
   ]
  },
  {
   "cell_type": "code",
   "execution_count": 30,
   "metadata": {},
   "outputs": [],
   "source": [
    "bed <- tidyr::separate(noncoding, col=peak, into = c(\"chrom\", \"start\", \"end\"), sep=\"_\")"
   ]
  },
  {
   "cell_type": "code",
   "execution_count": 50,
   "metadata": {},
   "outputs": [],
   "source": [
    "write.table(bed[,1:3], paste(\"out\", patient.id,\"noncoding-beds\",\"noncoding_peaks_43E7BL.bed\", sep=\"/\"), sep=\"\\t\", quote=F, row.names=F, col.names=F)"
   ]
  },
  {
   "cell_type": "code",
   "execution_count": 35,
   "metadata": {},
   "outputs": [
    {
     "data": {
      "text/html": [
       "'out/43E7BL/noncoding_peaks_43EB7L.bed'"
      ],
      "text/latex": [
       "'out/43E7BL/noncoding\\_peaks\\_43EB7L.bed'"
      ],
      "text/markdown": [
       "'out/43E7BL/noncoding_peaks_43EB7L.bed'"
      ],
      "text/plain": [
       "[1] \"out/43E7BL/noncoding_peaks_43EB7L.bed\""
      ]
     },
     "metadata": {},
     "output_type": "display_data"
    }
   ],
   "source": []
  }
 ],
 "metadata": {
  "kernelspec": {
   "display_name": "R",
   "language": "R",
   "name": "ir"
  },
  "language_info": {
   "codemirror_mode": "r",
   "file_extension": ".r",
   "mimetype": "text/x-r-source",
   "name": "R",
   "pygments_lexer": "r",
   "version": "4.0.3"
  }
 },
 "nbformat": 4,
 "nbformat_minor": 2
}
